{
 "cells": [
  {
   "cell_type": "code",
   "execution_count": 2,
   "metadata": {},
   "outputs": [
    {
     "output_type": "stream",
     "name": "stderr",
     "text": "'kaggle' is not recognized as an internal or external command,\noperable program or batch file.\n"
    }
   ],
   "source": [
    "!git init \n",
    "!git remote add origin  \"https://github.com/Rajashow/hippity-hoppity-your-data-is-my-property.git\" "
   ]
  },
  {
   "cell_type": "code",
   "execution_count": null,
   "metadata": {},
   "outputs": [],
   "source": [
    "!git pull origin master\n"
   ]
  },
  {
   "cell_type": "code",
   "execution_count": 4,
   "metadata": {},
   "outputs": [],
   "source": [
    "import pandas as pd"
   ]
  },
  {
   "cell_type": "code",
   "execution_count": 5,
   "metadata": {},
   "outputs": [
    {
     "output_type": "execute_result",
     "data": {
      "text/plain": "   CREDIT_SCORE  FIRST_PAYMENT_DATE FIRST_TIME_HOMEBUYER_FLAG  MATURITY_DATE  \\\n0         669.0              200206                         N         202901   \n1         732.0              199904                         N         202903   \n2         679.0              200208                         N         202902   \n3         721.0              200209                         N         202902   \n4         618.0              200210                         N         202902   \n\n   METROPOLITAN_STATISTICAL_AREA  MORTGAGE_INSURANCE_PERCENTAGE  \\\n0                            NaN                            0.0   \n1                        17140.0                            0.0   \n2                        15940.0                           30.0   \n3                        38060.0                            0.0   \n4                        10420.0                           25.0   \n\n   NUMBER_OF_UNITS OCCUPANCY_STATUS  ORIGINAL_COMBINED_LOAN_TO_VALUE  \\\n0              1.0                O                             80.0   \n1              1.0                O                             25.0   \n2              1.0                O                             91.0   \n3              1.0                O                             39.0   \n4              1.0                O                             85.0   \n\n   ORIGINAL_DEBT_TO_INCOME_RATIO  ...  PROPERTY_TYPE  POSTAL_CODE  \\\n0                           33.0  ...             SF      26100.0   \n1                           10.0  ...             SF      45200.0   \n2                           48.0  ...             SF      44700.0   \n3                           13.0  ...             SF      85200.0   \n4                           24.0  ...             SF      44200.0   \n\n   LOAN_SEQUENCE_NUMBER LOAN_PURPOSE ORIGINAL_LOAN_TERM NUMBER_OF_BORROWERS  \\\n0          F199Q1000004            P                320                 2.0   \n1          F199Q1000005            N                360                 1.0   \n2          F199Q1000007            P                319                 1.0   \n3          F199Q1000013            N                318                 2.0   \n4          F199Q1000015            N                317                 2.0   \n\n     SELLER_NAME    SERVICER_NAME  PREPAID DELINQUENT  \n0  Other sellers  Other servicers     True      False  \n1  Other sellers  Other servicers     True      False  \n2  Other sellers  Other servicers     True      False  \n3  Other sellers  Other servicers     True      False  \n4  Other sellers  Other servicers     True      False  \n\n[5 rows x 27 columns]",
      "text/html": "<div>\n<style scoped>\n    .dataframe tbody tr th:only-of-type {\n        vertical-align: middle;\n    }\n\n    .dataframe tbody tr th {\n        vertical-align: top;\n    }\n\n    .dataframe thead th {\n        text-align: right;\n    }\n</style>\n<table border=\"1\" class=\"dataframe\">\n  <thead>\n    <tr style=\"text-align: right;\">\n      <th></th>\n      <th>CREDIT_SCORE</th>\n      <th>FIRST_PAYMENT_DATE</th>\n      <th>FIRST_TIME_HOMEBUYER_FLAG</th>\n      <th>MATURITY_DATE</th>\n      <th>METROPOLITAN_STATISTICAL_AREA</th>\n      <th>MORTGAGE_INSURANCE_PERCENTAGE</th>\n      <th>NUMBER_OF_UNITS</th>\n      <th>OCCUPANCY_STATUS</th>\n      <th>ORIGINAL_COMBINED_LOAN_TO_VALUE</th>\n      <th>ORIGINAL_DEBT_TO_INCOME_RATIO</th>\n      <th>...</th>\n      <th>PROPERTY_TYPE</th>\n      <th>POSTAL_CODE</th>\n      <th>LOAN_SEQUENCE_NUMBER</th>\n      <th>LOAN_PURPOSE</th>\n      <th>ORIGINAL_LOAN_TERM</th>\n      <th>NUMBER_OF_BORROWERS</th>\n      <th>SELLER_NAME</th>\n      <th>SERVICER_NAME</th>\n      <th>PREPAID</th>\n      <th>DELINQUENT</th>\n    </tr>\n  </thead>\n  <tbody>\n    <tr>\n      <th>0</th>\n      <td>669.0</td>\n      <td>200206</td>\n      <td>N</td>\n      <td>202901</td>\n      <td>NaN</td>\n      <td>0.0</td>\n      <td>1.0</td>\n      <td>O</td>\n      <td>80.0</td>\n      <td>33.0</td>\n      <td>...</td>\n      <td>SF</td>\n      <td>26100.0</td>\n      <td>F199Q1000004</td>\n      <td>P</td>\n      <td>320</td>\n      <td>2.0</td>\n      <td>Other sellers</td>\n      <td>Other servicers</td>\n      <td>True</td>\n      <td>False</td>\n    </tr>\n    <tr>\n      <th>1</th>\n      <td>732.0</td>\n      <td>199904</td>\n      <td>N</td>\n      <td>202903</td>\n      <td>17140.0</td>\n      <td>0.0</td>\n      <td>1.0</td>\n      <td>O</td>\n      <td>25.0</td>\n      <td>10.0</td>\n      <td>...</td>\n      <td>SF</td>\n      <td>45200.0</td>\n      <td>F199Q1000005</td>\n      <td>N</td>\n      <td>360</td>\n      <td>1.0</td>\n      <td>Other sellers</td>\n      <td>Other servicers</td>\n      <td>True</td>\n      <td>False</td>\n    </tr>\n    <tr>\n      <th>2</th>\n      <td>679.0</td>\n      <td>200208</td>\n      <td>N</td>\n      <td>202902</td>\n      <td>15940.0</td>\n      <td>30.0</td>\n      <td>1.0</td>\n      <td>O</td>\n      <td>91.0</td>\n      <td>48.0</td>\n      <td>...</td>\n      <td>SF</td>\n      <td>44700.0</td>\n      <td>F199Q1000007</td>\n      <td>P</td>\n      <td>319</td>\n      <td>1.0</td>\n      <td>Other sellers</td>\n      <td>Other servicers</td>\n      <td>True</td>\n      <td>False</td>\n    </tr>\n    <tr>\n      <th>3</th>\n      <td>721.0</td>\n      <td>200209</td>\n      <td>N</td>\n      <td>202902</td>\n      <td>38060.0</td>\n      <td>0.0</td>\n      <td>1.0</td>\n      <td>O</td>\n      <td>39.0</td>\n      <td>13.0</td>\n      <td>...</td>\n      <td>SF</td>\n      <td>85200.0</td>\n      <td>F199Q1000013</td>\n      <td>N</td>\n      <td>318</td>\n      <td>2.0</td>\n      <td>Other sellers</td>\n      <td>Other servicers</td>\n      <td>True</td>\n      <td>False</td>\n    </tr>\n    <tr>\n      <th>4</th>\n      <td>618.0</td>\n      <td>200210</td>\n      <td>N</td>\n      <td>202902</td>\n      <td>10420.0</td>\n      <td>25.0</td>\n      <td>1.0</td>\n      <td>O</td>\n      <td>85.0</td>\n      <td>24.0</td>\n      <td>...</td>\n      <td>SF</td>\n      <td>44200.0</td>\n      <td>F199Q1000015</td>\n      <td>N</td>\n      <td>317</td>\n      <td>2.0</td>\n      <td>Other sellers</td>\n      <td>Other servicers</td>\n      <td>True</td>\n      <td>False</td>\n    </tr>\n  </tbody>\n</table>\n<p>5 rows × 27 columns</p>\n</div>"
     },
     "metadata": {},
     "execution_count": 5
    }
   ],
   "source": [
    "df = pd.read_csv(\"data/loan_level_500k.csv\")\n",
    "df.head()"
   ]
  },
  {
   "cell_type": "code",
   "execution_count": null,
   "metadata": {},
   "outputs": [],
   "source": []
  }
 ],
 "metadata": {
  "language_info": {
   "codemirror_mode": {
    "name": "ipython",
    "version": 3
   },
   "file_extension": ".py",
   "mimetype": "text/x-python",
   "name": "python",
   "nbconvert_exporter": "python",
   "pygments_lexer": "ipython3",
   "version": "3.7.6-final"
  },
  "orig_nbformat": 2,
  "kernelspec": {
   "name": "python3",
   "display_name": "Python 3"
  }
 },
 "nbformat": 4,
 "nbformat_minor": 2
}