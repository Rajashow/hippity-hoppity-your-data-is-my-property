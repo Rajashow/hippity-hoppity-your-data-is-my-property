{
 "cells": [
  {
   "cell_type": "code",
   "execution_count": 1,
   "metadata": {},
   "outputs": [],
   "source": [
    "import pandas as pd\n",
    "import numpy as np\n",
    "from statsmodels.formula.api import logit\n",
    "from plotnine import *\n",
    "import sklearn.ensemble\n",
    "import sklearn.model_selection\n",
    "import sklearn.metrics\n",
    "import sklearn.linear_model\n",
    "import matplotlib.pylab as plt\n",
    "from clean_data import *"
   ]
  },
  {
   "cell_type": "code",
   "execution_count": 2,
   "metadata": {},
   "outputs": [
    {
     "output_type": "execute_result",
     "data": {
      "text/plain": "                      CREDIT_SCORE  FIRST_PAYMENT_DATE  \\\nLOAN_SEQUENCE_NUMBER                                     \nF199Q1000004                 669.0              200206   \nF199Q1000005                 732.0              199904   \nF199Q1000007                 679.0              200208   \nF199Q1000013                 721.0              200209   \nF199Q1000015                 618.0              200210   \n\n                     FIRST_TIME_HOMEBUYER_FLAG  MATURITY_DATE  \\\nLOAN_SEQUENCE_NUMBER                                            \nF199Q1000004                                 N         202901   \nF199Q1000005                                 N         202903   \nF199Q1000007                                 N         202902   \nF199Q1000013                                 N         202902   \nF199Q1000015                                 N         202902   \n\n                      METROPOLITAN_STATISTICAL_AREA  \\\nLOAN_SEQUENCE_NUMBER                                  \nF199Q1000004                                    NaN   \nF199Q1000005                                17140.0   \nF199Q1000007                                15940.0   \nF199Q1000013                                38060.0   \nF199Q1000015                                10420.0   \n\n                      MORTGAGE_INSURANCE_PERCENTAGE  NUMBER_OF_UNITS  \\\nLOAN_SEQUENCE_NUMBER                                                   \nF199Q1000004                                    0.0              1.0   \nF199Q1000005                                    0.0              1.0   \nF199Q1000007                                   30.0              1.0   \nF199Q1000013                                    0.0              1.0   \nF199Q1000015                                   25.0              1.0   \n\n                     OCCUPANCY_STATUS  ORIGINAL_COMBINED_LOAN_TO_VALUE  \\\nLOAN_SEQUENCE_NUMBER                                                     \nF199Q1000004                        O                             80.0   \nF199Q1000005                        O                             25.0   \nF199Q1000007                        O                             91.0   \nF199Q1000013                        O                             39.0   \nF199Q1000015                        O                             85.0   \n\n                      ORIGINAL_DEBT_TO_INCOME_RATIO  ...  PROPERTY_STATE  \\\nLOAN_SEQUENCE_NUMBER                                 ...                   \nF199Q1000004                                   33.0  ...              WV   \nF199Q1000005                                   10.0  ...              OH   \nF199Q1000007                                   48.0  ...              OH   \nF199Q1000013                                   13.0  ...              AZ   \nF199Q1000015                                   24.0  ...              OH   \n\n                      PROPERTY_TYPE  POSTAL_CODE LOAN_PURPOSE  \\\nLOAN_SEQUENCE_NUMBER                                            \nF199Q1000004                     SF      26100.0            P   \nF199Q1000005                     SF      45200.0            N   \nF199Q1000007                     SF      44700.0            P   \nF199Q1000013                     SF      85200.0            N   \nF199Q1000015                     SF      44200.0            N   \n\n                     ORIGINAL_LOAN_TERM NUMBER_OF_BORROWERS    SELLER_NAME  \\\nLOAN_SEQUENCE_NUMBER                                                         \nF199Q1000004                        320                 2.0  Other sellers   \nF199Q1000005                        360                 1.0  Other sellers   \nF199Q1000007                        319                 1.0  Other sellers   \nF199Q1000013                        318                 2.0  Other sellers   \nF199Q1000015                        317                 2.0  Other sellers   \n\n                        SERVICER_NAME  PREPAID DELINQUENT  \nLOAN_SEQUENCE_NUMBER                                       \nF199Q1000004          Other servicers     True      False  \nF199Q1000005          Other servicers     True      False  \nF199Q1000007          Other servicers     True      False  \nF199Q1000013          Other servicers     True      False  \nF199Q1000015          Other servicers     True      False  \n\n[5 rows x 26 columns]",
      "text/html": "<div>\n<style scoped>\n    .dataframe tbody tr th:only-of-type {\n        vertical-align: middle;\n    }\n\n    .dataframe tbody tr th {\n        vertical-align: top;\n    }\n\n    .dataframe thead th {\n        text-align: right;\n    }\n</style>\n<table border=\"1\" class=\"dataframe\">\n  <thead>\n    <tr style=\"text-align: right;\">\n      <th></th>\n      <th>CREDIT_SCORE</th>\n      <th>FIRST_PAYMENT_DATE</th>\n      <th>FIRST_TIME_HOMEBUYER_FLAG</th>\n      <th>MATURITY_DATE</th>\n      <th>METROPOLITAN_STATISTICAL_AREA</th>\n      <th>MORTGAGE_INSURANCE_PERCENTAGE</th>\n      <th>NUMBER_OF_UNITS</th>\n      <th>OCCUPANCY_STATUS</th>\n      <th>ORIGINAL_COMBINED_LOAN_TO_VALUE</th>\n      <th>ORIGINAL_DEBT_TO_INCOME_RATIO</th>\n      <th>...</th>\n      <th>PROPERTY_STATE</th>\n      <th>PROPERTY_TYPE</th>\n      <th>POSTAL_CODE</th>\n      <th>LOAN_PURPOSE</th>\n      <th>ORIGINAL_LOAN_TERM</th>\n      <th>NUMBER_OF_BORROWERS</th>\n      <th>SELLER_NAME</th>\n      <th>SERVICER_NAME</th>\n      <th>PREPAID</th>\n      <th>DELINQUENT</th>\n    </tr>\n    <tr>\n      <th>LOAN_SEQUENCE_NUMBER</th>\n      <th></th>\n      <th></th>\n      <th></th>\n      <th></th>\n      <th></th>\n      <th></th>\n      <th></th>\n      <th></th>\n      <th></th>\n      <th></th>\n      <th></th>\n      <th></th>\n      <th></th>\n      <th></th>\n      <th></th>\n      <th></th>\n      <th></th>\n      <th></th>\n      <th></th>\n      <th></th>\n      <th></th>\n    </tr>\n  </thead>\n  <tbody>\n    <tr>\n      <th>F199Q1000004</th>\n      <td>669.0</td>\n      <td>200206</td>\n      <td>N</td>\n      <td>202901</td>\n      <td>NaN</td>\n      <td>0.0</td>\n      <td>1.0</td>\n      <td>O</td>\n      <td>80.0</td>\n      <td>33.0</td>\n      <td>...</td>\n      <td>WV</td>\n      <td>SF</td>\n      <td>26100.0</td>\n      <td>P</td>\n      <td>320</td>\n      <td>2.0</td>\n      <td>Other sellers</td>\n      <td>Other servicers</td>\n      <td>True</td>\n      <td>False</td>\n    </tr>\n    <tr>\n      <th>F199Q1000005</th>\n      <td>732.0</td>\n      <td>199904</td>\n      <td>N</td>\n      <td>202903</td>\n      <td>17140.0</td>\n      <td>0.0</td>\n      <td>1.0</td>\n      <td>O</td>\n      <td>25.0</td>\n      <td>10.0</td>\n      <td>...</td>\n      <td>OH</td>\n      <td>SF</td>\n      <td>45200.0</td>\n      <td>N</td>\n      <td>360</td>\n      <td>1.0</td>\n      <td>Other sellers</td>\n      <td>Other servicers</td>\n      <td>True</td>\n      <td>False</td>\n    </tr>\n    <tr>\n      <th>F199Q1000007</th>\n      <td>679.0</td>\n      <td>200208</td>\n      <td>N</td>\n      <td>202902</td>\n      <td>15940.0</td>\n      <td>30.0</td>\n      <td>1.0</td>\n      <td>O</td>\n      <td>91.0</td>\n      <td>48.0</td>\n      <td>...</td>\n      <td>OH</td>\n      <td>SF</td>\n      <td>44700.0</td>\n      <td>P</td>\n      <td>319</td>\n      <td>1.0</td>\n      <td>Other sellers</td>\n      <td>Other servicers</td>\n      <td>True</td>\n      <td>False</td>\n    </tr>\n    <tr>\n      <th>F199Q1000013</th>\n      <td>721.0</td>\n      <td>200209</td>\n      <td>N</td>\n      <td>202902</td>\n      <td>38060.0</td>\n      <td>0.0</td>\n      <td>1.0</td>\n      <td>O</td>\n      <td>39.0</td>\n      <td>13.0</td>\n      <td>...</td>\n      <td>AZ</td>\n      <td>SF</td>\n      <td>85200.0</td>\n      <td>N</td>\n      <td>318</td>\n      <td>2.0</td>\n      <td>Other sellers</td>\n      <td>Other servicers</td>\n      <td>True</td>\n      <td>False</td>\n    </tr>\n    <tr>\n      <th>F199Q1000015</th>\n      <td>618.0</td>\n      <td>200210</td>\n      <td>N</td>\n      <td>202902</td>\n      <td>10420.0</td>\n      <td>25.0</td>\n      <td>1.0</td>\n      <td>O</td>\n      <td>85.0</td>\n      <td>24.0</td>\n      <td>...</td>\n      <td>OH</td>\n      <td>SF</td>\n      <td>44200.0</td>\n      <td>N</td>\n      <td>317</td>\n      <td>2.0</td>\n      <td>Other sellers</td>\n      <td>Other servicers</td>\n      <td>True</td>\n      <td>False</td>\n    </tr>\n  </tbody>\n</table>\n<p>5 rows × 26 columns</p>\n</div>"
     },
     "metadata": {},
     "execution_count": 2
    }
   ],
   "source": [
    "df = pd.read_csv(\"data/loan_level_500k.csv\", low_memory=False, index_col=19)\n",
    "df.head()"
   ]
  },
  {
   "cell_type": "code",
   "execution_count": 3,
   "metadata": {},
   "outputs": [
    {
     "output_type": "execute_result",
     "data": {
      "text/plain": "                      CREDIT_SCORE FIRST_TIME_HOMEBUYER_FLAG  \\\nLOAN_SEQUENCE_NUMBER                                           \nF199Q1000004                 669.0                         N   \nF199Q1000005                 732.0                         N   \nF199Q1000007                 679.0                         N   \nF199Q1000013                 721.0                         N   \nF199Q1000015                 618.0                         N   \n\n                      METROPOLITAN_STATISTICAL_AREA  \\\nLOAN_SEQUENCE_NUMBER                                  \nF199Q1000004                                    NaN   \nF199Q1000005                                17140.0   \nF199Q1000007                                15940.0   \nF199Q1000013                                38060.0   \nF199Q1000015                                10420.0   \n\n                      MORTGAGE_INSURANCE_PERCENTAGE  NUMBER_OF_UNITS  \\\nLOAN_SEQUENCE_NUMBER                                                   \nF199Q1000004                                    0.0              1.0   \nF199Q1000005                                    0.0              1.0   \nF199Q1000007                                   30.0              1.0   \nF199Q1000013                                    0.0              1.0   \nF199Q1000015                                   25.0              1.0   \n\n                     OCCUPANCY_STATUS  ORIGINAL_COMBINED_LOAN_TO_VALUE  \\\nLOAN_SEQUENCE_NUMBER                                                     \nF199Q1000004                        O                             80.0   \nF199Q1000005                        O                             25.0   \nF199Q1000007                        O                             91.0   \nF199Q1000013                        O                             39.0   \nF199Q1000015                        O                             85.0   \n\n                      ORIGINAL_DEBT_TO_INCOME_RATIO  ORIGINAL_UPB  \\\nLOAN_SEQUENCE_NUMBER                                                \nF199Q1000004                                   33.0        162000   \nF199Q1000005                                   10.0         53000   \nF199Q1000007                                   48.0        133000   \nF199Q1000013                                   13.0        174000   \nF199Q1000015                                   24.0        122000   \n\n                      ORIGINAL_LOAN_TO_VALUE  ...  ORIGINAL_LOAN_TERM  \\\nLOAN_SEQUENCE_NUMBER                          ...                       \nF199Q1000004                            80.0  ...                 320   \nF199Q1000005                            25.0  ...                 360   \nF199Q1000007                            91.0  ...                 319   \nF199Q1000013                            39.0  ...                 318   \nF199Q1000015                            85.0  ...                 317   \n\n                     NUMBER_OF_BORROWERS    SELLER_NAME    SERVICER_NAME  \\\nLOAN_SEQUENCE_NUMBER                                                       \nF199Q1000004                         2.0  Other sellers  Other servicers   \nF199Q1000005                         1.0  Other sellers  Other servicers   \nF199Q1000007                         1.0  Other sellers  Other servicers   \nF199Q1000013                         2.0  Other sellers  Other servicers   \nF199Q1000015                         2.0  Other sellers  Other servicers   \n\n                     PREPAID DELINQUENT  MATURITY_YEAR MATURITY_MON  \\\nLOAN_SEQUENCE_NUMBER                                                  \nF199Q1000004            True          0           2029            1   \nF199Q1000005            True          0           2029            3   \nF199Q1000007            True          0           2029            2   \nF199Q1000013            True          0           2029            2   \nF199Q1000015            True          0           2029            2   \n\n                      FIRST_PAYMENT_YEAR  FIRST_PAYMENT_MON  \nLOAN_SEQUENCE_NUMBER                                         \nF199Q1000004                        2002                  6  \nF199Q1000005                        1999                  4  \nF199Q1000007                        2002                  8  \nF199Q1000013                        2002                  9  \nF199Q1000015                        2002                 10  \n\n[5 rows x 28 columns]",
      "text/html": "<div>\n<style scoped>\n    .dataframe tbody tr th:only-of-type {\n        vertical-align: middle;\n    }\n\n    .dataframe tbody tr th {\n        vertical-align: top;\n    }\n\n    .dataframe thead th {\n        text-align: right;\n    }\n</style>\n<table border=\"1\" class=\"dataframe\">\n  <thead>\n    <tr style=\"text-align: right;\">\n      <th></th>\n      <th>CREDIT_SCORE</th>\n      <th>FIRST_TIME_HOMEBUYER_FLAG</th>\n      <th>METROPOLITAN_STATISTICAL_AREA</th>\n      <th>MORTGAGE_INSURANCE_PERCENTAGE</th>\n      <th>NUMBER_OF_UNITS</th>\n      <th>OCCUPANCY_STATUS</th>\n      <th>ORIGINAL_COMBINED_LOAN_TO_VALUE</th>\n      <th>ORIGINAL_DEBT_TO_INCOME_RATIO</th>\n      <th>ORIGINAL_UPB</th>\n      <th>ORIGINAL_LOAN_TO_VALUE</th>\n      <th>...</th>\n      <th>ORIGINAL_LOAN_TERM</th>\n      <th>NUMBER_OF_BORROWERS</th>\n      <th>SELLER_NAME</th>\n      <th>SERVICER_NAME</th>\n      <th>PREPAID</th>\n      <th>DELINQUENT</th>\n      <th>MATURITY_YEAR</th>\n      <th>MATURITY_MON</th>\n      <th>FIRST_PAYMENT_YEAR</th>\n      <th>FIRST_PAYMENT_MON</th>\n    </tr>\n    <tr>\n      <th>LOAN_SEQUENCE_NUMBER</th>\n      <th></th>\n      <th></th>\n      <th></th>\n      <th></th>\n      <th></th>\n      <th></th>\n      <th></th>\n      <th></th>\n      <th></th>\n      <th></th>\n      <th></th>\n      <th></th>\n      <th></th>\n      <th></th>\n      <th></th>\n      <th></th>\n      <th></th>\n      <th></th>\n      <th></th>\n      <th></th>\n      <th></th>\n    </tr>\n  </thead>\n  <tbody>\n    <tr>\n      <th>F199Q1000004</th>\n      <td>669.0</td>\n      <td>N</td>\n      <td>NaN</td>\n      <td>0.0</td>\n      <td>1.0</td>\n      <td>O</td>\n      <td>80.0</td>\n      <td>33.0</td>\n      <td>162000</td>\n      <td>80.0</td>\n      <td>...</td>\n      <td>320</td>\n      <td>2.0</td>\n      <td>Other sellers</td>\n      <td>Other servicers</td>\n      <td>True</td>\n      <td>0</td>\n      <td>2029</td>\n      <td>1</td>\n      <td>2002</td>\n      <td>6</td>\n    </tr>\n    <tr>\n      <th>F199Q1000005</th>\n      <td>732.0</td>\n      <td>N</td>\n      <td>17140.0</td>\n      <td>0.0</td>\n      <td>1.0</td>\n      <td>O</td>\n      <td>25.0</td>\n      <td>10.0</td>\n      <td>53000</td>\n      <td>25.0</td>\n      <td>...</td>\n      <td>360</td>\n      <td>1.0</td>\n      <td>Other sellers</td>\n      <td>Other servicers</td>\n      <td>True</td>\n      <td>0</td>\n      <td>2029</td>\n      <td>3</td>\n      <td>1999</td>\n      <td>4</td>\n    </tr>\n    <tr>\n      <th>F199Q1000007</th>\n      <td>679.0</td>\n      <td>N</td>\n      <td>15940.0</td>\n      <td>30.0</td>\n      <td>1.0</td>\n      <td>O</td>\n      <td>91.0</td>\n      <td>48.0</td>\n      <td>133000</td>\n      <td>91.0</td>\n      <td>...</td>\n      <td>319</td>\n      <td>1.0</td>\n      <td>Other sellers</td>\n      <td>Other servicers</td>\n      <td>True</td>\n      <td>0</td>\n      <td>2029</td>\n      <td>2</td>\n      <td>2002</td>\n      <td>8</td>\n    </tr>\n    <tr>\n      <th>F199Q1000013</th>\n      <td>721.0</td>\n      <td>N</td>\n      <td>38060.0</td>\n      <td>0.0</td>\n      <td>1.0</td>\n      <td>O</td>\n      <td>39.0</td>\n      <td>13.0</td>\n      <td>174000</td>\n      <td>39.0</td>\n      <td>...</td>\n      <td>318</td>\n      <td>2.0</td>\n      <td>Other sellers</td>\n      <td>Other servicers</td>\n      <td>True</td>\n      <td>0</td>\n      <td>2029</td>\n      <td>2</td>\n      <td>2002</td>\n      <td>9</td>\n    </tr>\n    <tr>\n      <th>F199Q1000015</th>\n      <td>618.0</td>\n      <td>N</td>\n      <td>10420.0</td>\n      <td>25.0</td>\n      <td>1.0</td>\n      <td>O</td>\n      <td>85.0</td>\n      <td>24.0</td>\n      <td>122000</td>\n      <td>85.0</td>\n      <td>...</td>\n      <td>317</td>\n      <td>2.0</td>\n      <td>Other sellers</td>\n      <td>Other servicers</td>\n      <td>True</td>\n      <td>0</td>\n      <td>2029</td>\n      <td>2</td>\n      <td>2002</td>\n      <td>10</td>\n    </tr>\n  </tbody>\n</table>\n<p>5 rows × 28 columns</p>\n</div>"
     },
     "metadata": {},
     "execution_count": 3
    }
   ],
   "source": [
    "df = tidy_data(df)\n",
    "df.head()"
   ]
  },
  {
   "cell_type": "code",
   "execution_count": null,
   "metadata": {},
   "outputs": [],
   "source": []
  },
  {
   "cell_type": "code",
   "execution_count": 4,
   "metadata": {},
   "outputs": [],
   "source": [
    "#Function from Project 4\n",
    "def get_roc_data(model, cv_obj):\n",
    "    curve_df = None\n",
    "    aucs = []\n",
    "    mean_fpr = np.linspace(0, 1, 100)\n",
    "    \n",
    "    for i, (train, test) in enumerate(cv_obj.split(X, y)):\n",
    "        model.fit(X[train], y[train])\n",
    "        scores = model.predict_proba(X[test])[:,1]\n",
    "        fpr, tpr, _ = sklearn.metrics.roc_curve(y[test],scores)\n",
    "        \n",
    "        interp_tpr = np.interp(mean_fpr, fpr, tpr)\n",
    "        interp_tpr[0] = 0.0\n",
    "        tmp = pd.DataFrame({'fold':i, 'fpr': mean_fpr, 'tpr': interp_tpr})\n",
    "        curve_df = tmp if curve_df is None else pd.concat([curve_df, tmp])\n",
    "        \n",
    "        aucs.append(sklearn.metrics.auc(fpr, tpr))\n",
    "        \n",
    "    curve_df = curve_df.groupby('fpr').agg({'tpr': 'mean'}).reset_index()\n",
    "    curve_df.iloc[-1,1] = 1.0\n",
    "    \n",
    "    auc_df = pd.DataFrame({'fold': np.arange(len(aucs)), 'auc': aucs})\n",
    "    return curve_df, auc_df"
   ]
  },
  {
   "cell_type": "code",
   "execution_count": 13,
   "metadata": {},
   "outputs": [],
   "source": [
    "#Logistic Regression Prep\n",
    "cv_obj = sklearn.model_selection.StratifiedKFold(n_splits=10)\n",
    "\n",
    "lr = sklearn.linear_model.LogisticRegression()\n",
    "parameters = {}\n",
    "\n",
    "lr_cv = sklearn.model_selection.GridSearchCV(lr, parameters, cv=10)"
   ]
  },
  {
   "cell_type": "code",
   "execution_count": 14,
   "metadata": {},
   "outputs": [],
   "source": [
    "#Using Function from clean_data script to split into testing and training data\n",
    "train,test, _ = get_train_test_split_for_ml(df, 2000,pre_process=True )"
   ]
  },
  {
   "cell_type": "code",
   "execution_count": 19,
   "metadata": {},
   "outputs": [],
   "source": [
    "X = train.drop([\"DELINQUENT\",\"PREPAID\"],axis=1).to_numpy()\n",
    "y = train[\"DELINQUENT\"]\n"
   ]
  },
  {
   "cell_type": "code",
   "execution_count": 16,
   "metadata": {},
   "outputs": [
    {
     "output_type": "error",
     "ename": "KeyError",
     "evalue": "\"None of [Int64Index([ 26037,  26038,  26039,  26040,  26041,  26042,  26043,  26044,\\n             26045,  26046,\\n            ...\\n            260715, 260716, 260717, 260718, 260719, 260720, 260721, 260722,\\n            260723, 260724],\\n           dtype='int64', length=234652)] are in the [columns]\"",
     "traceback": [
      "\u001b[1;31m---------------------------------------------------------------------------\u001b[0m",
      "\u001b[1;31mKeyError\u001b[0m                                  Traceback (most recent call last)",
      "\u001b[1;32m<ipython-input-16-a639a6cf2795>\u001b[0m in \u001b[0;36m<module>\u001b[1;34m\u001b[0m\n\u001b[0;32m      1\u001b[0m \u001b[1;31m#Using Function From Project 4\u001b[0m\u001b[1;33m\u001b[0m\u001b[1;33m\u001b[0m\u001b[1;33m\u001b[0m\u001b[0m\n\u001b[1;32m----> 2\u001b[1;33m \u001b[0mlr_curve_df\u001b[0m\u001b[1;33m,\u001b[0m \u001b[0mlr_auc_df\u001b[0m \u001b[1;33m=\u001b[0m \u001b[0mget_roc_data\u001b[0m\u001b[1;33m(\u001b[0m\u001b[0mlr_cv\u001b[0m\u001b[1;33m,\u001b[0m \u001b[0mcv_obj\u001b[0m\u001b[1;33m)\u001b[0m\u001b[1;33m\u001b[0m\u001b[1;33m\u001b[0m\u001b[0m\n\u001b[0m\u001b[0;32m      3\u001b[0m \u001b[1;33m\u001b[0m\u001b[0m\n\u001b[0;32m      4\u001b[0m \u001b[0mlr_curve_df\u001b[0m\u001b[1;33m[\u001b[0m\u001b[1;34m'model'\u001b[0m\u001b[1;33m]\u001b[0m \u001b[1;33m=\u001b[0m \u001b[1;34m'logistic regression'\u001b[0m\u001b[1;33m\u001b[0m\u001b[1;33m\u001b[0m\u001b[0m\n\u001b[0;32m      5\u001b[0m \u001b[0mlr_auc_df\u001b[0m\u001b[1;33m[\u001b[0m\u001b[1;34m'model'\u001b[0m\u001b[1;33m]\u001b[0m \u001b[1;33m=\u001b[0m \u001b[1;34m'logistic regression'\u001b[0m\u001b[1;33m\u001b[0m\u001b[1;33m\u001b[0m\u001b[0m\n",
      "\u001b[1;32m<ipython-input-4-2a7aa4ea4dbf>\u001b[0m in \u001b[0;36mget_roc_data\u001b[1;34m(model, cv_obj)\u001b[0m\n\u001b[0;32m      6\u001b[0m \u001b[1;33m\u001b[0m\u001b[0m\n\u001b[0;32m      7\u001b[0m     \u001b[1;32mfor\u001b[0m \u001b[0mi\u001b[0m\u001b[1;33m,\u001b[0m \u001b[1;33m(\u001b[0m\u001b[0mtrain\u001b[0m\u001b[1;33m,\u001b[0m \u001b[0mtest\u001b[0m\u001b[1;33m)\u001b[0m \u001b[1;32min\u001b[0m \u001b[0menumerate\u001b[0m\u001b[1;33m(\u001b[0m\u001b[0mcv_obj\u001b[0m\u001b[1;33m.\u001b[0m\u001b[0msplit\u001b[0m\u001b[1;33m(\u001b[0m\u001b[0mX\u001b[0m\u001b[1;33m,\u001b[0m \u001b[0my\u001b[0m\u001b[1;33m)\u001b[0m\u001b[1;33m)\u001b[0m\u001b[1;33m:\u001b[0m\u001b[1;33m\u001b[0m\u001b[1;33m\u001b[0m\u001b[0m\n\u001b[1;32m----> 8\u001b[1;33m         \u001b[0mmodel\u001b[0m\u001b[1;33m.\u001b[0m\u001b[0mfit\u001b[0m\u001b[1;33m(\u001b[0m\u001b[0mX\u001b[0m\u001b[1;33m[\u001b[0m\u001b[0mtrain\u001b[0m\u001b[1;33m]\u001b[0m\u001b[1;33m,\u001b[0m \u001b[0my\u001b[0m\u001b[1;33m[\u001b[0m\u001b[0mtrain\u001b[0m\u001b[1;33m]\u001b[0m\u001b[1;33m)\u001b[0m\u001b[1;33m\u001b[0m\u001b[1;33m\u001b[0m\u001b[0m\n\u001b[0m\u001b[0;32m      9\u001b[0m         \u001b[0mscores\u001b[0m \u001b[1;33m=\u001b[0m \u001b[0mmodel\u001b[0m\u001b[1;33m.\u001b[0m\u001b[0mpredict_proba\u001b[0m\u001b[1;33m(\u001b[0m\u001b[0mX\u001b[0m\u001b[1;33m[\u001b[0m\u001b[0mtest\u001b[0m\u001b[1;33m]\u001b[0m\u001b[1;33m)\u001b[0m\u001b[1;33m[\u001b[0m\u001b[1;33m:\u001b[0m\u001b[1;33m,\u001b[0m\u001b[1;36m1\u001b[0m\u001b[1;33m]\u001b[0m\u001b[1;33m\u001b[0m\u001b[1;33m\u001b[0m\u001b[0m\n\u001b[0;32m     10\u001b[0m         \u001b[0mfpr\u001b[0m\u001b[1;33m,\u001b[0m \u001b[0mtpr\u001b[0m\u001b[1;33m,\u001b[0m \u001b[0m_\u001b[0m \u001b[1;33m=\u001b[0m \u001b[0msklearn\u001b[0m\u001b[1;33m.\u001b[0m\u001b[0mmetrics\u001b[0m\u001b[1;33m.\u001b[0m\u001b[0mroc_curve\u001b[0m\u001b[1;33m(\u001b[0m\u001b[0my\u001b[0m\u001b[1;33m[\u001b[0m\u001b[0mtest\u001b[0m\u001b[1;33m]\u001b[0m\u001b[1;33m,\u001b[0m\u001b[0mscores\u001b[0m\u001b[1;33m)\u001b[0m\u001b[1;33m\u001b[0m\u001b[1;33m\u001b[0m\u001b[0m\n",
      "\u001b[1;32m~\\anaconda3\\lib\\site-packages\\pandas\\core\\frame.py\u001b[0m in \u001b[0;36m__getitem__\u001b[1;34m(self, key)\u001b[0m\n\u001b[0;32m   2804\u001b[0m             \u001b[1;32mif\u001b[0m \u001b[0mis_iterator\u001b[0m\u001b[1;33m(\u001b[0m\u001b[0mkey\u001b[0m\u001b[1;33m)\u001b[0m\u001b[1;33m:\u001b[0m\u001b[1;33m\u001b[0m\u001b[1;33m\u001b[0m\u001b[0m\n\u001b[0;32m   2805\u001b[0m                 \u001b[0mkey\u001b[0m \u001b[1;33m=\u001b[0m \u001b[0mlist\u001b[0m\u001b[1;33m(\u001b[0m\u001b[0mkey\u001b[0m\u001b[1;33m)\u001b[0m\u001b[1;33m\u001b[0m\u001b[1;33m\u001b[0m\u001b[0m\n\u001b[1;32m-> 2806\u001b[1;33m             \u001b[0mindexer\u001b[0m \u001b[1;33m=\u001b[0m \u001b[0mself\u001b[0m\u001b[1;33m.\u001b[0m\u001b[0mloc\u001b[0m\u001b[1;33m.\u001b[0m\u001b[0m_get_listlike_indexer\u001b[0m\u001b[1;33m(\u001b[0m\u001b[0mkey\u001b[0m\u001b[1;33m,\u001b[0m \u001b[0maxis\u001b[0m\u001b[1;33m=\u001b[0m\u001b[1;36m1\u001b[0m\u001b[1;33m,\u001b[0m \u001b[0mraise_missing\u001b[0m\u001b[1;33m=\u001b[0m\u001b[1;32mTrue\u001b[0m\u001b[1;33m)\u001b[0m\u001b[1;33m[\u001b[0m\u001b[1;36m1\u001b[0m\u001b[1;33m]\u001b[0m\u001b[1;33m\u001b[0m\u001b[1;33m\u001b[0m\u001b[0m\n\u001b[0m\u001b[0;32m   2807\u001b[0m \u001b[1;33m\u001b[0m\u001b[0m\n\u001b[0;32m   2808\u001b[0m         \u001b[1;31m# take() does not accept boolean indexers\u001b[0m\u001b[1;33m\u001b[0m\u001b[1;33m\u001b[0m\u001b[1;33m\u001b[0m\u001b[0m\n",
      "\u001b[1;32m~\\anaconda3\\lib\\site-packages\\pandas\\core\\indexing.py\u001b[0m in \u001b[0;36m_get_listlike_indexer\u001b[1;34m(self, key, axis, raise_missing)\u001b[0m\n\u001b[0;32m   1550\u001b[0m \u001b[1;33m\u001b[0m\u001b[0m\n\u001b[0;32m   1551\u001b[0m         self._validate_read_indexer(\n\u001b[1;32m-> 1552\u001b[1;33m             \u001b[0mkeyarr\u001b[0m\u001b[1;33m,\u001b[0m \u001b[0mindexer\u001b[0m\u001b[1;33m,\u001b[0m \u001b[0mo\u001b[0m\u001b[1;33m.\u001b[0m\u001b[0m_get_axis_number\u001b[0m\u001b[1;33m(\u001b[0m\u001b[0maxis\u001b[0m\u001b[1;33m)\u001b[0m\u001b[1;33m,\u001b[0m \u001b[0mraise_missing\u001b[0m\u001b[1;33m=\u001b[0m\u001b[0mraise_missing\u001b[0m\u001b[1;33m\u001b[0m\u001b[1;33m\u001b[0m\u001b[0m\n\u001b[0m\u001b[0;32m   1553\u001b[0m         )\n\u001b[0;32m   1554\u001b[0m         \u001b[1;32mreturn\u001b[0m \u001b[0mkeyarr\u001b[0m\u001b[1;33m,\u001b[0m \u001b[0mindexer\u001b[0m\u001b[1;33m\u001b[0m\u001b[1;33m\u001b[0m\u001b[0m\n",
      "\u001b[1;32m~\\anaconda3\\lib\\site-packages\\pandas\\core\\indexing.py\u001b[0m in \u001b[0;36m_validate_read_indexer\u001b[1;34m(self, key, indexer, axis, raise_missing)\u001b[0m\n\u001b[0;32m   1637\u001b[0m             \u001b[1;32mif\u001b[0m \u001b[0mmissing\u001b[0m \u001b[1;33m==\u001b[0m \u001b[0mlen\u001b[0m\u001b[1;33m(\u001b[0m\u001b[0mindexer\u001b[0m\u001b[1;33m)\u001b[0m\u001b[1;33m:\u001b[0m\u001b[1;33m\u001b[0m\u001b[1;33m\u001b[0m\u001b[0m\n\u001b[0;32m   1638\u001b[0m                 \u001b[0maxis_name\u001b[0m \u001b[1;33m=\u001b[0m \u001b[0mself\u001b[0m\u001b[1;33m.\u001b[0m\u001b[0mobj\u001b[0m\u001b[1;33m.\u001b[0m\u001b[0m_get_axis_name\u001b[0m\u001b[1;33m(\u001b[0m\u001b[0maxis\u001b[0m\u001b[1;33m)\u001b[0m\u001b[1;33m\u001b[0m\u001b[1;33m\u001b[0m\u001b[0m\n\u001b[1;32m-> 1639\u001b[1;33m                 \u001b[1;32mraise\u001b[0m \u001b[0mKeyError\u001b[0m\u001b[1;33m(\u001b[0m\u001b[1;34mf\"None of [{key}] are in the [{axis_name}]\"\u001b[0m\u001b[1;33m)\u001b[0m\u001b[1;33m\u001b[0m\u001b[1;33m\u001b[0m\u001b[0m\n\u001b[0m\u001b[0;32m   1640\u001b[0m \u001b[1;33m\u001b[0m\u001b[0m\n\u001b[0;32m   1641\u001b[0m             \u001b[1;31m# We (temporarily) allow for some missing keys with .loc, except in\u001b[0m\u001b[1;33m\u001b[0m\u001b[1;33m\u001b[0m\u001b[1;33m\u001b[0m\u001b[0m\n",
      "\u001b[1;31mKeyError\u001b[0m: \"None of [Int64Index([ 26037,  26038,  26039,  26040,  26041,  26042,  26043,  26044,\\n             26045,  26046,\\n            ...\\n            260715, 260716, 260717, 260718, 260719, 260720, 260721, 260722,\\n            260723, 260724],\\n           dtype='int64', length=234652)] are in the [columns]\""
     ]
    }
   ],
   "source": [
    "#Using Function From Project 4\n",
    "lr_curve_df, lr_auc_df = get_roc_data(lr_cv, cv_obj)\n",
    "\n",
    "lr_curve_df['model'] = 'logistic regression'\n",
    "lr_auc_df['model'] = 'logistic regression'"
   ]
  },
  {
   "cell_type": "code",
   "execution_count": null,
   "metadata": {},
   "outputs": [],
   "source": []
  }
 ],
 "metadata": {
  "kernelspec": {
   "display_name": "Python 3",
   "language": "python",
   "name": "python3"
  },
  "language_info": {
   "codemirror_mode": {
    "name": "ipython",
    "version": 3
   },
   "file_extension": ".py",
   "mimetype": "text/x-python",
   "name": "python",
   "nbconvert_exporter": "python",
   "pygments_lexer": "ipython3",
   "version": "3.7.6-final"
  }
 },
 "nbformat": 4,
 "nbformat_minor": 4
}