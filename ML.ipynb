{
 "cells": [
  {
   "cell_type": "code",
   "execution_count": 39,
   "metadata": {},
   "outputs": [],
   "source": [
    "import pandas as pd\n",
    "import random\n",
    "import numpy as np\n",
    "from statsmodels.formula.api import logit\n",
    "from plotnine import *\n",
    "import sklearn.ensemble\n",
    "import sklearn.model_selection\n",
    "import sklearn.metrics\n",
    "import sklearn.linear_model\n",
    "import matplotlib.pylab as plt\n",
    "from clean_data import *"
   ]
  },
  {
   "cell_type": "code",
   "execution_count": 40,
   "metadata": {},
   "outputs": [],
   "source": [
    "#Reading the data in\n",
    "df = pd.read_csv(\"data/loan_level_500k.csv\", low_memory=False, index_col=19)"
   ]
  },
  {
   "cell_type": "code",
   "execution_count": 41,
   "metadata": {},
   "outputs": [],
   "source": [
    "#Tidying data with script\n",
    "df = tidy_data(df)"
   ]
  },
  {
   "cell_type": "code",
   "execution_count": 42,
   "metadata": {},
   "outputs": [],
   "source": [
    "#Sampling our data for our Logistic Regression due to computational constraints\n",
    "df = df.sample(10000)"
   ]
  },
  {
   "cell_type": "markdown",
   "metadata": {},
   "source": [
    "Now we are onto the machine learning component.\n",
    "\n",
    "We decided to run a logistic regression instead of something like a linear regression because we were trying to predict the categorical variable of delinquency. Categorical variables are better predicted using a logistic regression over a linear regression. \n",
    "\n",
    "The following is the code used to run the logistic regression followed by some analysis of our model."
   ]
  },
  {
   "cell_type": "code",
   "execution_count": 43,
   "metadata": {},
   "outputs": [],
   "source": [
    "#Function from Project 4 with slight modification to return the actual model aswell\n",
    "def get_roc_data(model, cv_obj):\n",
    "    curve_df = None\n",
    "    aucs = []\n",
    "    mean_fpr = np.linspace(0, 1, 100)\n",
    "    \n",
    "    for i, (train, test) in enumerate(cv_obj.split(X, y)):\n",
    "        model.fit(X[train], y[train])\n",
    "        scores = model.predict_proba(X[test])[:,1]\n",
    "        fpr, tpr, _ = sklearn.metrics.roc_curve(y[test],scores)\n",
    "        \n",
    "        interp_tpr = np.interp(mean_fpr, fpr, tpr)\n",
    "        interp_tpr[0] = 0.0\n",
    "        tmp = pd.DataFrame({'fold':i, 'fpr': mean_fpr, 'tpr': interp_tpr})\n",
    "        curve_df = tmp if curve_df is None else pd.concat([curve_df, tmp])\n",
    "        \n",
    "        aucs.append(sklearn.metrics.auc(fpr, tpr))\n",
    "        \n",
    "    curve_df = curve_df.groupby('fpr').agg({'tpr': 'mean'}).reset_index()\n",
    "    curve_df.iloc[-1,1] = 1.0\n",
    "    \n",
    "    auc_df = pd.DataFrame({'fold': np.arange(len(aucs)), 'auc': aucs})\n",
    "    return curve_df, auc_df, model"
   ]
  },
  {
   "cell_type": "code",
   "execution_count": 44,
   "metadata": {},
   "outputs": [],
   "source": [
    "#Logistic Regression Prep\n",
    "cv_obj = sklearn.model_selection.StratifiedKFold(n_splits=10)\n",
    "\n",
    "lr = sklearn.linear_model.LogisticRegression(n_jobs = -1)\n",
    "parameters = {}\n",
    "\n",
    "lr_cv = sklearn.model_selection.GridSearchCV(lr, parameters, cv=10)"
   ]
  },
  {
   "cell_type": "code",
   "execution_count": 45,
   "metadata": {},
   "outputs": [],
   "source": [
    "#Using Function from clean_data script to split into testing and training data\n",
    "train,test, _ = get_train_test_split_for_ml(df, 2000,pre_process=True )"
   ]
  },
  {
   "cell_type": "code",
   "execution_count": 46,
   "metadata": {},
   "outputs": [],
   "source": [
    "#Removing attributes\n",
    "X = train.drop([\"DELINQUENT\",\"PREPAID\"],axis=1).to_numpy()\n",
    "y = train[\"DELINQUENT\"]"
   ]
  },
  {
   "cell_type": "code",
   "execution_count": 47,
   "metadata": {},
   "outputs": [],
   "source": [
    "#Using Function From Project 4 to train the logistic regression model\n",
    "lr_curve_df, lr_auc_df, trained_model = get_roc_data(lr_cv, cv_obj)\n",
    "\n",
    "lr_curve_df['model'] = 'logistic regression'\n",
    "lr_auc_df['model'] = 'logistic regression'"
   ]
  },
  {
   "cell_type": "markdown",
   "metadata": {},
   "source": [
    "A confusion matrix was produced after running our testing data against our logistic regression model to see what kind of results we would get. A confusion matrix is a 2x2 table that shows us the following values: True Positive, False Positive, True Negative and False Negative. These values are indicative of whether the model correctly or incorrectly predicted a delinquent or non-delinquent person. "
   ]
  },
  {
   "cell_type": "markdown",
   "metadata": {},
   "source": [
    "True Positive: Correctly predicted a Delinquent\n",
    "False Positive: Incorrectly Predicted a Delinquent\n",
    "True Negative: Correctly predicted a non-Delinquent\n",
    "False Negative: Incorrectly Predicted a non-Delinquent"
   ]
  },
  {
   "cell_type": "code",
   "execution_count": 48,
   "metadata": {},
   "outputs": [
    {
     "name": "stdout",
     "output_type": "stream",
     "text": [
      "Confusion Matrix : \n",
      " [[4572   15]\n",
      " [ 197    0]]\n"
     ]
    }
   ],
   "source": [
    "#Generating the Confusion Matrix using our test data\n",
    "from sklearn.metrics import confusion_matrix\n",
    "\n",
    "X = test.drop([\"DELINQUENT\",\"PREPAID\"],axis=1).to_numpy()\n",
    "y = test[\"DELINQUENT\"]\n",
    "\n",
    "scores = trained_model.predict_proba(X)[:,1]\n",
    "scores = [1 if i > 0.5 else 0 for i in scores]\n",
    "\n",
    "cm = confusion_matrix(y, scores)\n",
    "print (\"Confusion Matrix : \\n\", cm)"
   ]
  },
  {
   "cell_type": "markdown",
   "metadata": {},
   "source": [
    "From these values we can evaluate the strength of our logistic regression model by calculating the Error Rate, Accuracy, Sensitivity and Specificity"
   ]
  },
  {
   "cell_type": "code",
   "execution_count": 49,
   "metadata": {},
   "outputs": [
    {
     "data": {
      "text/plain": [
       "(4572, 15, 197, 0)"
      ]
     },
     "execution_count": 49,
     "metadata": {},
     "output_type": "execute_result"
    }
   ],
   "source": [
    "#Printing out each value from the Confusion Matrix\n",
    "tn, fp, fn, tp = cm.ravel()\n",
    "(tn, fp, fn, tp)"
   ]
  },
  {
   "cell_type": "code",
   "execution_count": 50,
   "metadata": {},
   "outputs": [
    {
     "data": {
      "text/plain": [
       "(0.04431438127090301, 0.955685618729097, 0.0, 0.9586915495911092)"
      ]
     },
     "execution_count": 50,
     "metadata": {},
     "output_type": "execute_result"
    }
   ],
   "source": [
    "#Evaluation of Confusion Matrix\n",
    "total = (tn + fp + fn + tp)\n",
    "\n",
    "#Error Rate:\n",
    "er = (fp + fn) / total\n",
    "\n",
    "#Accuracy:\n",
    "acc = (tp + tn) / total\n",
    "\n",
    "#Sensitivity\n",
    "sens = tp / (tp + fp)\n",
    "\n",
    "#Specificity\n",
    "spec = tn / (tn + fn)\n",
    "\n",
    "(er, acc, sens, spec)"
   ]
  },
  {
   "cell_type": "markdown",
   "metadata": {},
   "source": [
    "Error Rate: This model has a low error rate which is good. This means that it has a very small chance of predicting an incorrect outcome.\n",
    "Accuracy: When a model has a low error rate, it typically has a high accuracy rate which means that it correctly predicts the outcome of our testing data most of the time. Our model is very accurate.\n",
    "Specificity: This model is highly specific. This means that our model high a high amount of correct negative predictions.\n",
    "Sensitivity: This model has a very poor sensitivity. This means that it has a very low amount of correct positive predictions. We think that we did not get any true positives from our model because of the overwhelming amounts on non-delinquent data we used to build the model. A way we could possibly improve this is by changing our sample to include more delinquent data."
   ]
  },
  {
   "cell_type": "markdown",
   "metadata": {},
   "source": [
    "Lets move onto a visual respresentation of our model. The following is our ROC data and our AUROC curve"
   ]
  },
  {
   "cell_type": "code",
   "execution_count": 51,
   "metadata": {},
   "outputs": [
    {
     "data": {
      "text/html": [
       "<div>\n",
       "<style scoped>\n",
       "    .dataframe tbody tr th:only-of-type {\n",
       "        vertical-align: middle;\n",
       "    }\n",
       "\n",
       "    .dataframe tbody tr th {\n",
       "        vertical-align: top;\n",
       "    }\n",
       "\n",
       "    .dataframe thead th {\n",
       "        text-align: right;\n",
       "    }\n",
       "</style>\n",
       "<table border=\"1\" class=\"dataframe\">\n",
       "  <thead>\n",
       "    <tr style=\"text-align: right;\">\n",
       "      <th></th>\n",
       "      <th>fpr</th>\n",
       "      <th>tpr</th>\n",
       "      <th>model</th>\n",
       "    </tr>\n",
       "  </thead>\n",
       "  <tbody>\n",
       "    <tr>\n",
       "      <th>0</th>\n",
       "      <td>0.000000</td>\n",
       "      <td>0.000000</td>\n",
       "      <td>logistic regression</td>\n",
       "    </tr>\n",
       "    <tr>\n",
       "      <th>1</th>\n",
       "      <td>0.010101</td>\n",
       "      <td>0.066993</td>\n",
       "      <td>logistic regression</td>\n",
       "    </tr>\n",
       "    <tr>\n",
       "      <th>2</th>\n",
       "      <td>0.020202</td>\n",
       "      <td>0.106536</td>\n",
       "      <td>logistic regression</td>\n",
       "    </tr>\n",
       "    <tr>\n",
       "      <th>3</th>\n",
       "      <td>0.030303</td>\n",
       "      <td>0.151307</td>\n",
       "      <td>logistic regression</td>\n",
       "    </tr>\n",
       "    <tr>\n",
       "      <th>4</th>\n",
       "      <td>0.040404</td>\n",
       "      <td>0.179739</td>\n",
       "      <td>logistic regression</td>\n",
       "    </tr>\n",
       "    <tr>\n",
       "      <th>...</th>\n",
       "      <td>...</td>\n",
       "      <td>...</td>\n",
       "      <td>...</td>\n",
       "    </tr>\n",
       "    <tr>\n",
       "      <th>95</th>\n",
       "      <td>0.959596</td>\n",
       "      <td>1.000000</td>\n",
       "      <td>logistic regression</td>\n",
       "    </tr>\n",
       "    <tr>\n",
       "      <th>96</th>\n",
       "      <td>0.969697</td>\n",
       "      <td>1.000000</td>\n",
       "      <td>logistic regression</td>\n",
       "    </tr>\n",
       "    <tr>\n",
       "      <th>97</th>\n",
       "      <td>0.979798</td>\n",
       "      <td>1.000000</td>\n",
       "      <td>logistic regression</td>\n",
       "    </tr>\n",
       "    <tr>\n",
       "      <th>98</th>\n",
       "      <td>0.989899</td>\n",
       "      <td>1.000000</td>\n",
       "      <td>logistic regression</td>\n",
       "    </tr>\n",
       "    <tr>\n",
       "      <th>99</th>\n",
       "      <td>1.000000</td>\n",
       "      <td>1.000000</td>\n",
       "      <td>logistic regression</td>\n",
       "    </tr>\n",
       "  </tbody>\n",
       "</table>\n",
       "<p>100 rows × 3 columns</p>\n",
       "</div>"
      ],
      "text/plain": [
       "         fpr       tpr                model\n",
       "0   0.000000  0.000000  logistic regression\n",
       "1   0.010101  0.066993  logistic regression\n",
       "2   0.020202  0.106536  logistic regression\n",
       "3   0.030303  0.151307  logistic regression\n",
       "4   0.040404  0.179739  logistic regression\n",
       "..       ...       ...                  ...\n",
       "95  0.959596  1.000000  logistic regression\n",
       "96  0.969697  1.000000  logistic regression\n",
       "97  0.979798  1.000000  logistic regression\n",
       "98  0.989899  1.000000  logistic regression\n",
       "99  1.000000  1.000000  logistic regression\n",
       "\n",
       "[100 rows x 3 columns]"
      ]
     },
     "execution_count": 51,
     "metadata": {},
     "output_type": "execute_result"
    }
   ],
   "source": [
    "#ROC data\n",
    "lr_curve_df"
   ]
  },
  {
   "cell_type": "code",
   "execution_count": 52,
   "metadata": {},
   "outputs": [
    {
     "data": {
      "text/plain": [
       "<matplotlib.axes._subplots.AxesSubplot at 0x7f81517aaa60>"
      ]
     },
     "execution_count": 52,
     "metadata": {},
     "output_type": "execute_result"
    },
    {
     "data": {
      "image/png": "[encoded data removed]",
      "text/plain": [
       "<Figure size 432x288 with 1 Axes>"
      ]
     },
     "metadata": {
      "needs_background": "light"
     },
     "output_type": "display_data"
    }
   ],
   "source": [
    "#Plot of ROC Curve\n",
    "lr_curve_df.plot.line()"
   ]
  },
  {
   "cell_type": "markdown",
   "metadata": {},
   "source": [
    "In our AUROC Curve, we see two lines. The line at 45 degrees symbolizes using a 50-50 approach of guessing whether someone was delinquent or not. The orange line above this 45-degree line is our logistic regression model. The greater the y-value, the more accurate the model is at predicting whether someone is delinquent. A perfect model would have a consistent y-value of 1. We can deduce from this graph that our logistic regression model is quite a bit better at predicting whether someone is delinquent than just random guessing. "
   ]
  },
  {
   "cell_type": "markdown",
   "metadata": {},
   "source": [
    "In our hypothesis testing we said that we picked variables based on how correlated they were based on our correlation matrix. Since all those variables resulted in a p_value of less than 0.05, they were all deemed to be significant variables for our models. If one or more of those variables were over the significance value of 0.05 then we would have run another logistic regression excluding those variables and would compare the AUROC curves of both models. "
   ]
  },
  {
   "cell_type": "code",
   "execution_count": 53,
   "metadata": {},
   "outputs": [
    {
     "data": {
      "text/html": [
       "<div>\n",
       "<style scoped>\n",
       "    .dataframe tbody tr th:only-of-type {\n",
       "        vertical-align: middle;\n",
       "    }\n",
       "\n",
       "    .dataframe tbody tr th {\n",
       "        vertical-align: top;\n",
       "    }\n",
       "\n",
       "    .dataframe thead th {\n",
       "        text-align: right;\n",
       "    }\n",
       "</style>\n",
       "<table border=\"1\" class=\"dataframe\">\n",
       "  <thead>\n",
       "    <tr style=\"text-align: right;\">\n",
       "      <th></th>\n",
       "      <th>fold</th>\n",
       "      <th>auc</th>\n",
       "      <th>model</th>\n",
       "    </tr>\n",
       "  </thead>\n",
       "  <tbody>\n",
       "    <tr>\n",
       "      <th>0</th>\n",
       "      <td>0</td>\n",
       "      <td>0.748236</td>\n",
       "      <td>logistic regression</td>\n",
       "    </tr>\n",
       "    <tr>\n",
       "      <th>1</th>\n",
       "      <td>1</td>\n",
       "      <td>0.764881</td>\n",
       "      <td>logistic regression</td>\n",
       "    </tr>\n",
       "    <tr>\n",
       "      <th>2</th>\n",
       "      <td>2</td>\n",
       "      <td>0.850639</td>\n",
       "      <td>logistic regression</td>\n",
       "    </tr>\n",
       "    <tr>\n",
       "      <th>3</th>\n",
       "      <td>3</td>\n",
       "      <td>0.777227</td>\n",
       "      <td>logistic regression</td>\n",
       "    </tr>\n",
       "    <tr>\n",
       "      <th>4</th>\n",
       "      <td>4</td>\n",
       "      <td>0.804784</td>\n",
       "      <td>logistic regression</td>\n",
       "    </tr>\n",
       "    <tr>\n",
       "      <th>5</th>\n",
       "      <td>5</td>\n",
       "      <td>0.733466</td>\n",
       "      <td>logistic regression</td>\n",
       "    </tr>\n",
       "    <tr>\n",
       "      <th>6</th>\n",
       "      <td>6</td>\n",
       "      <td>0.756769</td>\n",
       "      <td>logistic regression</td>\n",
       "    </tr>\n",
       "    <tr>\n",
       "      <th>7</th>\n",
       "      <td>7</td>\n",
       "      <td>0.800641</td>\n",
       "      <td>logistic regression</td>\n",
       "    </tr>\n",
       "    <tr>\n",
       "      <th>8</th>\n",
       "      <td>8</td>\n",
       "      <td>0.710846</td>\n",
       "      <td>logistic regression</td>\n",
       "    </tr>\n",
       "    <tr>\n",
       "      <th>9</th>\n",
       "      <td>9</td>\n",
       "      <td>0.742766</td>\n",
       "      <td>logistic regression</td>\n",
       "    </tr>\n",
       "  </tbody>\n",
       "</table>\n",
       "</div>"
      ],
      "text/plain": [
       "   fold       auc                model\n",
       "0     0  0.748236  logistic regression\n",
       "1     1  0.764881  logistic regression\n",
       "2     2  0.850639  logistic regression\n",
       "3     3  0.777227  logistic regression\n",
       "4     4  0.804784  logistic regression\n",
       "5     5  0.733466  logistic regression\n",
       "6     6  0.756769  logistic regression\n",
       "7     7  0.800641  logistic regression\n",
       "8     8  0.710846  logistic regression\n",
       "9     9  0.742766  logistic regression"
      ]
     },
     "execution_count": 53,
     "metadata": {},
     "output_type": "execute_result"
    }
   ],
   "source": [
    "#AUC data - Don't really know what to do with this and below\n",
    "lr_auc_df"
   ]
  },
  {
   "cell_type": "code",
   "execution_count": 54,
   "metadata": {},
   "outputs": [
    {
     "data": {
      "text/plain": [
       "0.769025444284186"
      ]
     },
     "execution_count": 54,
     "metadata": {},
     "output_type": "execute_result"
    }
   ],
   "source": [
    "#average AUC\n",
    "lr_auc_df[\"auc\"].mean()"
   ]
  }
 ],
 "metadata": {
  "kernelspec": {
   "display_name": "Python 3",
   "language": "python",
   "name": "python3"
  },
  "language_info": {
   "codemirror_mode": {
    "name": "ipython",
    "version": 3
   },
   "file_extension": ".py",
   "mimetype": "text/x-python",
   "name": "python",
   "nbconvert_exporter": "python",
   "pygments_lexer": "ipython3",
   "version": "3.8.2"
  }
 },
 "nbformat": 4,
 "nbformat_minor": 4
}
